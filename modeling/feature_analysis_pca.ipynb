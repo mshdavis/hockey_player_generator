{
 "cells": [
  {
   "cell_type": "code",
   "execution_count": 1,
   "metadata": {
    "collapsed": true
   },
   "outputs": [],
   "source": [
    "# Todo:\n",
    "# [x] Rerun the below with scaled (0, 1) numeric values\n",
    "# [ ] Rerun the below once non-numeric fields have been cleaned\n",
    "# [ ] Use pca transformed data with linear SVC (http://scikit-learn.org/stable/modules/svm.html#classification)\n",
    "#    and test that model out"
   ]
  },
  {
   "cell_type": "code",
   "execution_count": 20,
   "metadata": {
    "collapsed": true
   },
   "outputs": [],
   "source": [
    "#Imports\n",
    "import json\n",
    "import pandas as pd\n",
    "import numpy as np\n",
    "import seaborn as sns\n",
    "import matplotlib.pyplot as plt\n",
    "from sklearn.decomposition import PCA\n",
    "from sklearn import preprocessing"
   ]
  },
  {
   "cell_type": "code",
   "execution_count": 3,
   "metadata": {
    "collapsed": true
   },
   "outputs": [],
   "source": [
    "# Make sure plots show\n",
    "%matplotlib inline"
   ]
  },
  {
   "cell_type": "code",
   "execution_count": 4,
   "metadata": {
    "collapsed": true
   },
   "outputs": [],
   "source": [
    "# Global Constants\n",
    "read_file = '../data/labeled_player_seasons.csv'\n",
    "plt.rcParams['figure.figsize'] = [16.0, 10.0] # Make plots visible"
   ]
  },
  {
   "cell_type": "code",
   "execution_count": 5,
   "metadata": {
    "collapsed": true
   },
   "outputs": [],
   "source": [
    "data = pd.read_csv(read_file)"
   ]
  },
  {
   "cell_type": "code",
   "execution_count": 6,
   "metadata": {},
   "outputs": [
    {
     "data": {
      "text/plain": [
       "array(['Unnamed: 0', 'assists', 'gamesPlayed', 'goals', 'otGoals',\n",
       "       'penaltyMinutes', 'playerFirstName', 'playerId', 'playerLastName',\n",
       "       'playerName', 'playerPositionCode', 'playerTeamsPlayedFor',\n",
       "       'plusMinus', 'points', 'pointsPerGame', 'seasonId', 'shiftsPerGame',\n",
       "       'shootingPctg', 'shots', 'timeOnIcePerGame', 'isSuccessfulSeason'], dtype=object)"
      ]
     },
     "execution_count": 6,
     "metadata": {},
     "output_type": "execute_result"
    }
   ],
   "source": [
    "data.columns.values"
   ]
  },
  {
   "cell_type": "code",
   "execution_count": 7,
   "metadata": {
    "collapsed": true
   },
   "outputs": [],
   "source": [
    "numeric_data = data.loc[:, ['assists', 'gamesPlayed', 'plusMinus', 'points', 'pointsPerGame',\n",
    "                            'shiftsPerGame', 'shots', 'timeOnIcePerGame']]\n",
    "target_data = data.loc[:, ['isSuccessfulSeason']]"
   ]
  },
  {
   "cell_type": "code",
   "execution_count": 24,
   "metadata": {
    "collapsed": true
   },
   "outputs": [],
   "source": [
    "# Normalize numeric fields to get rid of scale biases\n",
    "# Definitely seems to help move the variance spread around.\n",
    "# Toggle this cell to test models with/without once we start predicting.\n",
    "min_max_scaler = preprocessing.MinMaxScaler()\n",
    "numeric_data = min_max_scaler.fit_transform(numeric_data)"
   ]
  },
  {
   "cell_type": "code",
   "execution_count": 33,
   "metadata": {
    "collapsed": true
   },
   "outputs": [],
   "source": [
    "pca = PCA(n_components=3)"
   ]
  },
  {
   "cell_type": "code",
   "execution_count": 34,
   "metadata": {
    "collapsed": true
   },
   "outputs": [],
   "source": [
    "pca_fit = pca.fit(numeric_data)"
   ]
  },
  {
   "cell_type": "code",
   "execution_count": 35,
   "metadata": {},
   "outputs": [
    {
     "data": {
      "text/plain": [
       "array([ 0.72868668,  0.12300718,  0.09246464])"
      ]
     },
     "execution_count": 35,
     "metadata": {},
     "output_type": "execute_result"
    }
   ],
   "source": [
    "pca_fit.explained_variance_ratio_"
   ]
  },
  {
   "cell_type": "code",
   "execution_count": 36,
   "metadata": {},
   "outputs": [
    {
     "data": {
      "text/plain": [
       "array([[ 0.27107509,  0.73387955,  0.03779468,  0.330848  ,  0.2178682 ,\n",
       "         0.26410887,  0.27386728,  0.29125063],\n",
       "       [ 0.18642117, -0.6254723 ,  0.13121056,  0.19713022,  0.32036883,\n",
       "         0.42125715,  0.05938281,  0.48408152],\n",
       "       [ 0.29744886, -0.17711802,  0.16108615,  0.45121892,  0.40243189,\n",
       "        -0.49639588,  0.23268013, -0.43371164]])"
      ]
     },
     "execution_count": 36,
     "metadata": {},
     "output_type": "execute_result"
    }
   ],
   "source": [
    "pca_fit.components_"
   ]
  },
  {
   "cell_type": "code",
   "execution_count": 37,
   "metadata": {},
   "outputs": [
    {
     "data": {
      "text/plain": [
       "array([[ 0.0290389 ,  0.03250568,  0.00269573,  0.01774105,  0.01260821,\n",
       "         0.01258352,  0.01394328,  0.0142652 ],\n",
       "       [ 0.03250568,  0.11673608,  0.00317099,  0.03985796,  0.02397116,\n",
       "         0.03036924,  0.03437488,  0.03308206],\n",
       "       [ 0.00269573,  0.00317099,  0.01543113,  0.00335625,  0.00281276,\n",
       "         0.00196468,  0.00232097,  0.00238738],\n",
       "       [ 0.01774105,  0.03985796,  0.00335625,  0.03655682,  0.01555746,\n",
       "         0.014713  ,  0.0171829 ,  0.01678492],\n",
       "       [ 0.01260821,  0.02397116,  0.00281276,  0.01555746,  0.02635294,\n",
       "         0.0105996 ,  0.01174932,  0.01223794],\n",
       "       [ 0.01258352,  0.03036924,  0.00196468,  0.014713  ,  0.0105996 ,\n",
       "         0.03240764,  0.01208038,  0.01921065],\n",
       "       [ 0.01394328,  0.03437488,  0.00232097,  0.0171829 ,  0.01174932,\n",
       "         0.01208038,  0.02842829,  0.01359604],\n",
       "       [ 0.0142652 ,  0.03308206,  0.00238738,  0.01678492,  0.01223794,\n",
       "         0.01921065,  0.01359604,  0.0355057 ]])"
      ]
     },
     "execution_count": 37,
     "metadata": {},
     "output_type": "execute_result"
    }
   ],
   "source": [
    "pca_fit.get_covariance()"
   ]
  },
  {
   "cell_type": "code",
   "execution_count": 38,
   "metadata": {
    "collapsed": true
   },
   "outputs": [],
   "source": [
    "transformed_data = pca.transform(numeric_data)"
   ]
  },
  {
   "cell_type": "code",
   "execution_count": 39,
   "metadata": {
    "collapsed": true
   },
   "outputs": [],
   "source": [
    "transformed_data = pd.DataFrame(transformed_data)\n",
    "transformed_data['isSuccessfulSeason'] = target_data['isSuccessfulSeason']"
   ]
  },
  {
   "cell_type": "code",
   "execution_count": 40,
   "metadata": {},
   "outputs": [
    {
     "data": {
      "text/html": [
       "<div>\n",
       "<style>\n",
       "    .dataframe thead tr:only-child th {\n",
       "        text-align: right;\n",
       "    }\n",
       "\n",
       "    .dataframe thead th {\n",
       "        text-align: left;\n",
       "    }\n",
       "\n",
       "    .dataframe tbody tr th {\n",
       "        vertical-align: top;\n",
       "    }\n",
       "</style>\n",
       "<table border=\"1\" class=\"dataframe\">\n",
       "  <thead>\n",
       "    <tr style=\"text-align: right;\">\n",
       "      <th></th>\n",
       "      <th>0</th>\n",
       "      <th>1</th>\n",
       "      <th>2</th>\n",
       "      <th>isSuccessfulSeason</th>\n",
       "    </tr>\n",
       "  </thead>\n",
       "  <tbody>\n",
       "    <tr>\n",
       "      <th>count</th>\n",
       "      <td>1.408400e+04</td>\n",
       "      <td>1.408400e+04</td>\n",
       "      <td>1.408400e+04</td>\n",
       "      <td>14084.000000</td>\n",
       "    </tr>\n",
       "    <tr>\n",
       "      <th>mean</th>\n",
       "      <td>9.620251e-17</td>\n",
       "      <td>-4.112393e-17</td>\n",
       "      <td>-4.241574e-17</td>\n",
       "      <td>0.167140</td>\n",
       "    </tr>\n",
       "    <tr>\n",
       "      <th>std</th>\n",
       "      <td>4.369109e-01</td>\n",
       "      <td>1.795096e-01</td>\n",
       "      <td>1.556361e-01</td>\n",
       "      <td>0.373114</td>\n",
       "    </tr>\n",
       "    <tr>\n",
       "      <th>min</th>\n",
       "      <td>-8.687819e-01</td>\n",
       "      <td>-6.188767e-01</td>\n",
       "      <td>-4.678942e-01</td>\n",
       "      <td>0.000000</td>\n",
       "    </tr>\n",
       "    <tr>\n",
       "      <th>25%</th>\n",
       "      <td>-4.048747e-01</td>\n",
       "      <td>-1.146851e-01</td>\n",
       "      <td>-1.008530e-01</td>\n",
       "      <td>0.000000</td>\n",
       "    </tr>\n",
       "    <tr>\n",
       "      <th>50%</th>\n",
       "      <td>5.091692e-02</td>\n",
       "      <td>5.100424e-03</td>\n",
       "      <td>9.426242e-03</td>\n",
       "      <td>0.000000</td>\n",
       "    </tr>\n",
       "    <tr>\n",
       "      <th>75%</th>\n",
       "      <td>3.553148e-01</td>\n",
       "      <td>1.206502e-01</td>\n",
       "      <td>9.941249e-02</td>\n",
       "      <td>0.000000</td>\n",
       "    </tr>\n",
       "    <tr>\n",
       "      <th>max</th>\n",
       "      <td>1.136343e+00</td>\n",
       "      <td>6.694412e-01</td>\n",
       "      <td>7.489517e-01</td>\n",
       "      <td>1.000000</td>\n",
       "    </tr>\n",
       "  </tbody>\n",
       "</table>\n",
       "</div>"
      ],
      "text/plain": [
       "                  0             1             2  isSuccessfulSeason\n",
       "count  1.408400e+04  1.408400e+04  1.408400e+04        14084.000000\n",
       "mean   9.620251e-17 -4.112393e-17 -4.241574e-17            0.167140\n",
       "std    4.369109e-01  1.795096e-01  1.556361e-01            0.373114\n",
       "min   -8.687819e-01 -6.188767e-01 -4.678942e-01            0.000000\n",
       "25%   -4.048747e-01 -1.146851e-01 -1.008530e-01            0.000000\n",
       "50%    5.091692e-02  5.100424e-03  9.426242e-03            0.000000\n",
       "75%    3.553148e-01  1.206502e-01  9.941249e-02            0.000000\n",
       "max    1.136343e+00  6.694412e-01  7.489517e-01            1.000000"
      ]
     },
     "execution_count": 40,
     "metadata": {},
     "output_type": "execute_result"
    }
   ],
   "source": [
    "transformed_data.describe()"
   ]
  }
 ],
 "metadata": {
  "kernelspec": {
   "display_name": "Python 3",
   "language": "python",
   "name": "python3"
  },
  "language_info": {
   "codemirror_mode": {
    "name": "ipython",
    "version": 3
   },
   "file_extension": ".py",
   "mimetype": "text/x-python",
   "name": "python",
   "nbconvert_exporter": "python",
   "pygments_lexer": "ipython3",
   "version": "3.6.1"
  }
 },
 "nbformat": 4,
 "nbformat_minor": 2
}
