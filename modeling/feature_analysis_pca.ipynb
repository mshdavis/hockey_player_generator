{
 "cells": [
  {
   "cell_type": "code",
   "execution_count": null,
   "metadata": {
    "collapsed": true
   },
   "outputs": [],
   "source": [
    "# Todo:\n",
    "# 1. Rerun the below once non-numeric fields have been cleaned\n",
    "# 2. Use pca transformed data with linear SVC (http://scikit-learn.org/stable/modules/svm.html#classification)\n",
    "#    and test that model out"
   ]
  },
  {
   "cell_type": "code",
   "execution_count": 24,
   "metadata": {
    "collapsed": true
   },
   "outputs": [],
   "source": [
    "#Imports\n",
    "import json\n",
    "import pandas as pd\n",
    "import numpy as np\n",
    "import seaborn as sns\n",
    "import matplotlib.pyplot as plt\n",
    "from sklearn.decomposition import PCA"
   ]
  },
  {
   "cell_type": "code",
   "execution_count": 16,
   "metadata": {
    "collapsed": true
   },
   "outputs": [],
   "source": [
    "# Make sure plots show\n",
    "%matplotlib inline"
   ]
  },
  {
   "cell_type": "code",
   "execution_count": 17,
   "metadata": {
    "collapsed": true
   },
   "outputs": [],
   "source": [
    "# Global Constants\n",
    "read_file = '../data/labeled_player_seasons.csv'\n",
    "plt.rcParams['figure.figsize'] = [16.0, 10.0] # Make plots visible"
   ]
  },
  {
   "cell_type": "code",
   "execution_count": 19,
   "metadata": {},
   "outputs": [],
   "source": [
    "data = pd.read_csv(read_file)"
   ]
  },
  {
   "cell_type": "code",
   "execution_count": 20,
   "metadata": {},
   "outputs": [
    {
     "data": {
      "text/plain": [
       "array(['Unnamed: 0', 'assists', 'gamesPlayed', 'goals', 'otGoals',\n",
       "       'penaltyMinutes', 'playerFirstName', 'playerId', 'playerLastName',\n",
       "       'playerName', 'playerPositionCode', 'playerTeamsPlayedFor',\n",
       "       'plusMinus', 'points', 'pointsPerGame', 'seasonId', 'shiftsPerGame',\n",
       "       'shootingPctg', 'shots', 'timeOnIcePerGame', 'isSuccessfulSeason'], dtype=object)"
      ]
     },
     "execution_count": 20,
     "metadata": {},
     "output_type": "execute_result"
    }
   ],
   "source": [
    "data.columns.values"
   ]
  },
  {
   "cell_type": "code",
   "execution_count": 23,
   "metadata": {},
   "outputs": [],
   "source": [
    "numeric_data = data.loc[:, ['assists', 'gamesPlayed', 'plusMinus', 'points', 'pointsPerGame',\n",
    "                            'shiftsPerGame', 'shots', 'timeOnIcePerGame']]\n",
    "target_data = data.loc[:, ['isSuccessfulSeason']]"
   ]
  },
  {
   "cell_type": "code",
   "execution_count": 37,
   "metadata": {},
   "outputs": [],
   "source": [
    "pca = PCA(n_components=3)"
   ]
  },
  {
   "cell_type": "code",
   "execution_count": 38,
   "metadata": {
    "collapsed": true
   },
   "outputs": [],
   "source": [
    "pca_fit = pca.fit(numeric_data)"
   ]
  },
  {
   "cell_type": "code",
   "execution_count": 39,
   "metadata": {},
   "outputs": [
    {
     "data": {
      "text/plain": [
       "array([ 0.92096077,  0.04455887,  0.01841544])"
      ]
     },
     "execution_count": 39,
     "metadata": {},
     "output_type": "execute_result"
    }
   ],
   "source": [
    "pca_fit.explained_variance_ratio_"
   ]
  },
  {
   "cell_type": "code",
   "execution_count": 40,
   "metadata": {},
   "outputs": [
    {
     "data": {
      "text/plain": [
       "array([[ 0.14682049,  0.30413369,  0.02063353,  0.24741809,  0.00265006,\n",
       "         0.04072205,  0.906133  ,  0.03953063],\n",
       "       [ 0.02156941, -0.945385  ,  0.07927038,  0.12484203,  0.00399045,\n",
       "        -0.05748895,  0.28194013, -0.03318886],\n",
       "       [ 0.47877891,  0.04876918,  0.5863311 ,  0.58258151,  0.00846167,\n",
       "         0.06951683, -0.27285579,  0.07650141]])"
      ]
     },
     "execution_count": 40,
     "metadata": {},
     "output_type": "execute_result"
    }
   ],
   "source": [
    "pca_fit.components_"
   ]
  },
  {
   "cell_type": "code",
   "execution_count": 45,
   "metadata": {},
   "outputs": [
    {
     "name": "stdout",
     "output_type": "stream",
     "text": [
      "[ 0.92294162  0.04467776  0.01839019]\n",
      "[[  1.46890885e-01   3.04317490e-01   2.06381968e-02   2.47599782e-01\n",
      "    2.65140698e-03   4.06460960e-02   9.06875283e-01   6.57656159e-04]\n",
      " [  2.25170018e-02  -9.46408266e-01   7.98686438e-02   1.25283694e-01\n",
      "    4.01199152e-03  -5.56074761e-02   2.80394033e-01  -5.22160436e-04]\n",
      " [  4.77606909e-01   5.48320752e-02   5.90870938e-01   5.85235541e-01\n",
      "    8.40985608e-03   5.83191234e-02  -2.71630109e-01   1.10367120e-03]]\n"
     ]
    }
   ],
   "source": [
    "# Rerun after adjusting timeOnIcePerGame to minutes\n",
    "numeric_data['timeOnIcePerGame'] = numeric_data['timeOnIcePerGame'].apply(lambda x: int(x)/60)\n",
    "pca = PCA(n_components=3)\n",
    "pca_fit = pca.fit(numeric_data)\n",
    "print(pca_fit.explained_variance_ratio_)\n",
    "print(pca_fit.components_)"
   ]
  },
  {
   "cell_type": "code",
   "execution_count": 63,
   "metadata": {},
   "outputs": [],
   "source": [
    "# Looks like shots encapsulates the most variance in the set by far. So much for trying to avoid scorer bias...\n",
    "# At least points isn't the biggest indicator."
   ]
  },
  {
   "cell_type": "code",
   "execution_count": 50,
   "metadata": {},
   "outputs": [
    {
     "data": {
      "text/plain": [
       "array([[  2.26270274e+02,   2.62023948e+02,   2.64840085e+01,\n",
       "          2.24656426e+02,   2.44720783e+00,   3.60172291e+01,\n",
       "          7.88867396e+02,   5.86664123e-01],\n",
       "       [  2.62023948e+02,   8.21291257e+02,   2.30810432e+01,\n",
       "          4.24746206e+02,   4.04488573e+00,   8.41254192e+01,\n",
       "          1.58577206e+03,   1.28974057e+00],\n",
       "       [  2.64840085e+01,   2.30810432e+01,   1.05282306e+02,\n",
       "          4.23055979e+01,   5.32209753e-01,   5.08330609e+00,\n",
       "          1.11058570e+02,   9.10156835e-02],\n",
       "       [  2.24656426e+02,   4.24746206e+02,   4.23055979e+01,\n",
       "          4.68610486e+02,   4.14213211e+00,   5.93682154e+01,\n",
       "          1.33634543e+03,   9.72761698e-01],\n",
       "       [  2.44720783e+00,   4.04488573e+00,   5.32209753e-01,\n",
       "          4.14213211e+00,   9.14807672e+01,   6.09553048e-01,\n",
       "          1.44436040e+01,   1.02051145e-02],\n",
       "       [  3.60172291e+01,   8.41254192e+01,   5.08330609e+00,\n",
       "          5.93682154e+01,   6.09553048e-01,   1.01965872e+02,\n",
       "          2.15386349e+02,   1.66468010e-01],\n",
       "       [  7.88867396e+02,   1.58577206e+03,   1.11058570e+02,\n",
       "          1.33634543e+03,   1.44436040e+01,   2.15386349e+02,\n",
       "          4.99484768e+03,   3.50494583e+00],\n",
       "       [  5.86664123e-01,   1.28974057e+00,   9.10156835e-02,\n",
       "          9.72761698e-01,   1.02051145e-02,   1.66468010e-01,\n",
       "          3.50494583e+00,   9.14364035e+01]])"
      ]
     },
     "execution_count": 50,
     "metadata": {},
     "output_type": "execute_result"
    }
   ],
   "source": [
    "pca_fit.get_covariance()"
   ]
  },
  {
   "cell_type": "code",
   "execution_count": 51,
   "metadata": {
    "collapsed": true
   },
   "outputs": [],
   "source": [
    "transformed_data = pca.transform(numeric_data)"
   ]
  },
  {
   "cell_type": "code",
   "execution_count": 56,
   "metadata": {},
   "outputs": [],
   "source": [
    "transformed_data = pd.DataFrame(transformed_data)\n",
    "transformed_data['isSuccessfulSeason'] = target_data['isSuccessfulSeason']"
   ]
  },
  {
   "cell_type": "code",
   "execution_count": 62,
   "metadata": {},
   "outputs": [
    {
     "data": {
      "text/html": [
       "<div>\n",
       "<style>\n",
       "    .dataframe thead tr:only-child th {\n",
       "        text-align: right;\n",
       "    }\n",
       "\n",
       "    .dataframe thead th {\n",
       "        text-align: left;\n",
       "    }\n",
       "\n",
       "    .dataframe tbody tr th {\n",
       "        vertical-align: top;\n",
       "    }\n",
       "</style>\n",
       "<table border=\"1\" class=\"dataframe\">\n",
       "  <thead>\n",
       "    <tr style=\"text-align: right;\">\n",
       "      <th></th>\n",
       "      <th>0</th>\n",
       "      <th>1</th>\n",
       "      <th>2</th>\n",
       "      <th>isSuccessfulSeason</th>\n",
       "    </tr>\n",
       "  </thead>\n",
       "  <tbody>\n",
       "    <tr>\n",
       "      <th>count</th>\n",
       "      <td>1.408400e+04</td>\n",
       "      <td>1.408400e+04</td>\n",
       "      <td>1.408400e+04</td>\n",
       "      <td>14084.000000</td>\n",
       "    </tr>\n",
       "    <tr>\n",
       "      <th>mean</th>\n",
       "      <td>2.738233e-13</td>\n",
       "      <td>-3.851380e-15</td>\n",
       "      <td>-2.935706e-15</td>\n",
       "      <td>0.167140</td>\n",
       "    </tr>\n",
       "    <tr>\n",
       "      <th>std</th>\n",
       "      <td>7.766767e+01</td>\n",
       "      <td>1.708830e+01</td>\n",
       "      <td>1.096343e+01</td>\n",
       "      <td>0.373114</td>\n",
       "    </tr>\n",
       "    <tr>\n",
       "      <th>min</th>\n",
       "      <td>-9.472989e+01</td>\n",
       "      <td>-4.759861e+01</td>\n",
       "      <td>-6.007938e+01</td>\n",
       "      <td>0.000000</td>\n",
       "    </tr>\n",
       "    <tr>\n",
       "      <th>25%</th>\n",
       "      <td>-6.918526e+01</td>\n",
       "      <td>-1.298660e+01</td>\n",
       "      <td>-5.194858e+00</td>\n",
       "      <td>0.000000</td>\n",
       "    </tr>\n",
       "    <tr>\n",
       "      <th>50%</th>\n",
       "      <td>-1.109416e+01</td>\n",
       "      <td>8.612966e-01</td>\n",
       "      <td>-5.218542e-02</td>\n",
       "      <td>0.000000</td>\n",
       "    </tr>\n",
       "    <tr>\n",
       "      <th>75%</th>\n",
       "      <td>5.019715e+01</td>\n",
       "      <td>1.464383e+01</td>\n",
       "      <td>3.684261e+00</td>\n",
       "      <td>0.000000</td>\n",
       "    </tr>\n",
       "    <tr>\n",
       "      <th>max</th>\n",
       "      <td>4.440051e+02</td>\n",
       "      <td>1.099754e+02</td>\n",
       "      <td>9.061178e+01</td>\n",
       "      <td>1.000000</td>\n",
       "    </tr>\n",
       "  </tbody>\n",
       "</table>\n",
       "</div>"
      ],
      "text/plain": [
       "                  0             1             2  isSuccessfulSeason\n",
       "count  1.408400e+04  1.408400e+04  1.408400e+04        14084.000000\n",
       "mean   2.738233e-13 -3.851380e-15 -2.935706e-15            0.167140\n",
       "std    7.766767e+01  1.708830e+01  1.096343e+01            0.373114\n",
       "min   -9.472989e+01 -4.759861e+01 -6.007938e+01            0.000000\n",
       "25%   -6.918526e+01 -1.298660e+01 -5.194858e+00            0.000000\n",
       "50%   -1.109416e+01  8.612966e-01 -5.218542e-02            0.000000\n",
       "75%    5.019715e+01  1.464383e+01  3.684261e+00            0.000000\n",
       "max    4.440051e+02  1.099754e+02  9.061178e+01            1.000000"
      ]
     },
     "execution_count": 62,
     "metadata": {},
     "output_type": "execute_result"
    }
   ],
   "source": [
    "transformed_data.describe()"
   ]
  },
  {
   "cell_type": "code",
   "execution_count": null,
   "metadata": {},
   "outputs": [],
   "source": []
  },
  {
   "cell_type": "code",
   "execution_count": null,
   "metadata": {},
   "outputs": [],
   "source": []
  },
  {
   "cell_type": "code",
   "execution_count": null,
   "metadata": {
    "collapsed": true
   },
   "outputs": [],
   "source": []
  }
 ],
 "metadata": {
  "kernelspec": {
   "display_name": "Python 3",
   "language": "python",
   "name": "python3"
  },
  "language_info": {
   "codemirror_mode": {
    "name": "ipython",
    "version": 3
   },
   "file_extension": ".py",
   "mimetype": "text/x-python",
   "name": "python",
   "nbconvert_exporter": "python",
   "pygments_lexer": "ipython3",
   "version": "3.6.1"
  }
 },
 "nbformat": 4,
 "nbformat_minor": 2
}
